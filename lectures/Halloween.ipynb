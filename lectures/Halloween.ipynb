{
 "cells": [
  {
   "cell_type": "markdown",
   "id": "185f9931-b384-4fdc-a5b2-eea785428bb8",
   "metadata": {},
   "source": [
    "Copyright **`(c)`** 2023 Andrea Galella s310166\n",
    "\n",
    "`<andrea.galella@studenti.polito.it>` or `<galella.andrea@gmail.com>`\n",
    "\n",
    "[`https://github.com/andrea-ga/computational-intelligence`](https://github.com/andrea-ga/computational-intelligence)\n",
    "\n",
    "References - Course repository:  \n",
    "[`https://github.com/squillero/computational-intelligence`](https://github.com/squillero/computational-intelligence) "
   ]
  },
  {
   "cell_type": "code",
   "execution_count": 47,
   "id": "3ffe7245-e849-41d0-9698-5f0e0b83fee9",
   "metadata": {},
   "outputs": [],
   "source": [
    "from itertools import product\n",
    "from functools import reduce\n",
    "from random import random, randint, shuffle, seed, choice\n",
    "import numpy as np\n",
    "from scipy import sparse\n",
    "from copy import copy\n",
    "from tabulate import tabulate"
   ]
  },
  {
   "cell_type": "code",
   "execution_count": 48,
   "id": "6f03bd67-78a0-4d72-95b7-77a918727b91",
   "metadata": {},
   "outputs": [],
   "source": [
    "def make_set_covering_problem(num_points, num_sets, density):\n",
    "    \"\"\"Returns a sparse array where rows are sets and columns are the covered items\"\"\"\n",
    "    seed(num_points*2654435761+num_sets+density)\n",
    "    sets = sparse.lil_array((num_sets, num_points), dtype=bool)\n",
    "    for s, p in product(range(num_sets), range(num_points)):\n",
    "        if random() < density:\n",
    "            sets[s, p] = True\n",
    "    for p in range(num_points):\n",
    "        sets[randint(0, num_sets-1), p] = True\n",
    "\n",
    "    return sets"
   ]
  },
  {
   "cell_type": "markdown",
   "id": "82b0be37-21d9-492d-9a1d-cf0cdf0ddd76",
   "metadata": {},
   "source": [
    "# Halloween Challenge\n",
    "\n",
    "Find the best solution with the fewest calls to the fitness functions for:\n",
    "\n",
    "* `num_points = [100, 1_000, 5_000]`\n",
    "* `num_sets = num_points`\n",
    "* `density = [.3, .7]` "
   ]
  },
  {
   "cell_type": "code",
   "execution_count": 49,
   "id": "217cfde5",
   "metadata": {},
   "outputs": [],
   "source": [
    "NUM_POINTS = 100\n",
    "NUM_POINTS_2 = 1000\n",
    "NUM_POINTS_3 = 5000\n",
    "\n",
    "x1 = make_set_covering_problem(NUM_POINTS, NUM_POINTS, .3)\n",
    "x2 = make_set_covering_problem(NUM_POINTS_2, NUM_POINTS_2, .3)\n",
    "x3 = make_set_covering_problem(NUM_POINTS_3, NUM_POINTS_3, .3)\n",
    "x11 = make_set_covering_problem(NUM_POINTS, NUM_POINTS, .7)\n",
    "x21 = make_set_covering_problem(NUM_POINTS_2, NUM_POINTS_2, .7)\n",
    "x31 = make_set_covering_problem(NUM_POINTS_3, NUM_POINTS_3, .7)"
   ]
  },
  {
   "cell_type": "code",
   "execution_count": 50,
   "id": "aa9be1bc",
   "metadata": {},
   "outputs": [],
   "source": [
    "def evaluate1(state):\n",
    "    cost = sum(state)\n",
    "    \n",
    "    valid = np.all(\n",
    "        reduce(\n",
    "            np.logical_or,\n",
    "            [x1.getrow(i).toarray() for i, t in enumerate(state) if t],\n",
    "            np.array([False for _ in range(NUM_POINTS)]),\n",
    "        )\n",
    "    )\n",
    "    return valid, -cost if valid else 0\n",
    "\n",
    "def evaluate2(state):\n",
    "    cost = sum(state)\n",
    "    \n",
    "    valid = np.all(\n",
    "        reduce(\n",
    "            np.logical_or,\n",
    "            [x2.getrow(i).toarray() for i, t in enumerate(state) if t],\n",
    "            np.array([False for _ in range(NUM_POINTS_2)]),\n",
    "        )\n",
    "    )\n",
    "    return valid, -cost if valid else 0\n",
    "\n",
    "def evaluate3(state):\n",
    "    cost = sum(state)\n",
    "    \n",
    "    valid = np.all(\n",
    "        reduce(\n",
    "            np.logical_or,\n",
    "            [x3.getrow(i).toarray() for i, t in enumerate(state) if t],\n",
    "            np.array([False for _ in range(NUM_POINTS_3)]),\n",
    "        )\n",
    "    )\n",
    "    return valid, -cost if valid else 0\n",
    "\n",
    "def evaluate11(state):\n",
    "    cost = sum(state)\n",
    "    \n",
    "    valid = np.all(\n",
    "        reduce(\n",
    "            np.logical_or,\n",
    "            [x11.getrow(i).toarray() for i, t in enumerate(state) if t],\n",
    "            np.array([False for _ in range(NUM_POINTS)]),\n",
    "        )\n",
    "    )\n",
    "    return valid, -cost if valid else 0\n",
    "\n",
    "def evaluate21(state):\n",
    "    cost = sum(state)\n",
    "    \n",
    "    valid = np.all(\n",
    "        reduce(\n",
    "            np.logical_or,\n",
    "            [x21.getrow(i).toarray() for i, t in enumerate(state) if t],\n",
    "            np.array([False for _ in range(NUM_POINTS_2)]),\n",
    "        )\n",
    "    )\n",
    "    return valid, -cost if valid else 0\n",
    "\n",
    "def evaluate31(state):\n",
    "    cost = sum(state)\n",
    "    \n",
    "    valid = np.all(\n",
    "        reduce(\n",
    "            np.logical_or,\n",
    "            [x31.getrow(i).toarray() for i, t in enumerate(state) if t],\n",
    "            np.array([False for _ in range(NUM_POINTS_3)]),\n",
    "        )\n",
    "    )\n",
    "    return valid, -cost if valid else 0"
   ]
  },
  {
   "cell_type": "code",
   "execution_count": 51,
   "id": "8e1ee645",
   "metadata": {},
   "outputs": [],
   "source": [
    "def tweak1(state):\n",
    "    new_state = copy(state)\n",
    "    index = randint(0, NUM_POINTS - 1)\n",
    "    new_state[index] = not new_state[index]\n",
    "    return new_state\n",
    "\n",
    "def tweak2(state):\n",
    "    new_state = copy(state)\n",
    "    index = randint(0, NUM_POINTS_2 - 1)\n",
    "    new_state[index] = not new_state[index]\n",
    "    return new_state\n",
    "\n",
    "def tweak3(state):\n",
    "    new_state = copy(state)\n",
    "    index = randint(0, NUM_POINTS_3 - 1)\n",
    "    new_state[index] = not new_state[index]\n",
    "    return new_state"
   ]
  },
  {
   "cell_type": "code",
   "execution_count": 52,
   "id": "1b0cf236",
   "metadata": {},
   "outputs": [],
   "source": [
    "current_state = [choice([True, False]) for _ in range(NUM_POINTS)]\n",
    "evaluations_num = 0\n",
    "\n",
    "for step in range(1000):\n",
    "    new_state = tweak1(current_state)\n",
    "    if evaluate1(new_state) >= evaluate1(current_state):\n",
    "        evaluations_num += 2\n",
    "        current_state = new_state"
   ]
  },
  {
   "cell_type": "code",
   "execution_count": 53,
   "id": "208c504b",
   "metadata": {},
   "outputs": [],
   "source": [
    "current_state11 = [choice([True, False]) for _ in range(NUM_POINTS)]\n",
    "evaluations_num11 = 0\n",
    "\n",
    "for step in range(1000):\n",
    "    new_state = tweak1(current_state11)\n",
    "    if evaluate11(new_state) >= evaluate11(current_state11):\n",
    "        evaluations_num11 += 2\n",
    "        current_state11 = new_state"
   ]
  },
  {
   "cell_type": "code",
   "execution_count": 54,
   "id": "1b37629c",
   "metadata": {},
   "outputs": [],
   "source": [
    "current_state2 = [choice([True, False]) for _ in range(NUM_POINTS_2)]\n",
    "evaluations_num2 = 0\n",
    "\n",
    "for step in range(1000):\n",
    "    new_state = tweak2(current_state2)\n",
    "    if evaluate2(new_state) >= evaluate2(current_state2):\n",
    "        evaluations_num2 += 2\n",
    "        current_state2 = new_state"
   ]
  },
  {
   "cell_type": "code",
   "execution_count": 56,
   "id": "e91235c0",
   "metadata": {},
   "outputs": [],
   "source": [
    "current_state21 = [choice([True, False]) for _ in range(NUM_POINTS_2)]\n",
    "evaluations_num21 = 0\n",
    "\n",
    "for step in range(1000):\n",
    "    new_state = tweak2(current_state21)\n",
    "    if evaluate21(new_state) >= evaluate21(current_state21):\n",
    "        evaluations_num21 += 2\n",
    "        current_state21 = new_state"
   ]
  },
  {
   "cell_type": "code",
   "execution_count": 57,
   "id": "de09cf2d",
   "metadata": {},
   "outputs": [],
   "source": [
    "current_state3 = [choice([True, False]) for _ in range(NUM_POINTS_3)]\n",
    "evaluations_num3 = 0\n",
    "\n",
    "for step in range(1000):\n",
    "    new_state = tweak3(current_state3)\n",
    "    if evaluate3(new_state) >= evaluate3(current_state3):\n",
    "        evaluations_num3 += 2\n",
    "        current_state3 = new_state"
   ]
  },
  {
   "cell_type": "code",
   "execution_count": 58,
   "id": "a18e7865",
   "metadata": {},
   "outputs": [],
   "source": [
    "current_state31 = [choice([True, False]) for _ in range(NUM_POINTS_3)]\n",
    "evaluations_num31 = 0\n",
    "\n",
    "for step in range(1000):\n",
    "    new_state = tweak3(current_state31)\n",
    "    if evaluate31(new_state) >= evaluate31(current_state31):\n",
    "        evaluations_num31 += 2\n",
    "        current_state31 = new_state"
   ]
  },
  {
   "cell_type": "code",
   "execution_count": 46,
   "id": "776290b8",
   "metadata": {},
   "outputs": [
    {
     "name": "stdout",
     "output_type": "stream",
     "text": [
      "NUM_POINTS | DENSITY | COST       | VALIDITY | NUM_EVALUTATIONS\n",
      "-----------|---------|------------|----------|-----------------\n",
      " 100       | 0.3     | -7         | True     | 88\n",
      "-----------|---------|------------|----------|-----------------\n",
      " 1000      | 0.3     | -459        | True    | 92\n",
      "-----------|---------|------------|----------|-----------------\n",
      " 5000      | 0.3     | -2376        | True    | 96\n",
      "-----------|---------|------------|----------|-----------------\n",
      " 100       | 0.7     | -3          | True     | 80\n",
      "-----------|---------|------------|----------|-----------------\n",
      " 1000      | 0.7     | -491       | True      | 96\n",
      "-----------|---------|------------|----------|-----------------\n",
      " 5000      | 0.7     | -2443       | True      | 102\n",
      "-----------|---------|------------|----------|-----------------\n"
     ]
    }
   ],
   "source": [
    "valid, res = evaluate1(current_state)\n",
    "valid2, res2 = evaluate2(current_state2)\n",
    "valid3, res3 = evaluate3(current_state3)\n",
    "valid11, res11 = evaluate11(current_state11)\n",
    "valid21, res21 = evaluate21(current_state21)\n",
    "valid31, res31 = evaluate31(current_state31)\n",
    "\n",
    "data = [[\"100\", \"0.3\", -res, valid, evaluations_num],\n",
    "        [\"1000\", \"0.3\", -res2, valid2, evaluations_num2],\n",
    "        [\"5000\", \"0.3\", -res3, valid3, evaluations_num3],\n",
    "        [\"100\", \"0.7\", -res11, valid11, evaluations_num11],\n",
    "        [\"1000\", \"0.7\", -res21, valid21, evaluations_num21],\n",
    "        [\"5000\", \"0.7\", -res31, valid31, evaluations_num31]\n",
    "       ]\n",
    "\n",
    "col_names = [\"NUM_POINTS\", \"DENSITY\", \"COST\", \"VALIDITY\", \"NUM_EVALUATIONS\"]\n",
    "\n",
    "print(tabulate(data, headers=col_names, tablefmt=\"fancy_grid\"))"
   ]
  }
 ],
 "metadata": {
  "kernelspec": {
   "display_name": "Python 3 (ipykernel)",
   "language": "python",
   "name": "python3"
  },
  "language_info": {
   "codemirror_mode": {
    "name": "ipython",
    "version": 3
   },
   "file_extension": ".py",
   "mimetype": "text/x-python",
   "name": "python",
   "nbconvert_exporter": "python",
   "pygments_lexer": "ipython3",
   "version": "3.11.2"
  }
 },
 "nbformat": 4,
 "nbformat_minor": 5
}

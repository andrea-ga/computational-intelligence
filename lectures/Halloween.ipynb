{
 "cells": [
  {
   "cell_type": "markdown",
   "id": "185f9931-b384-4fdc-a5b2-eea785428bb8",
   "metadata": {},
   "source": [
    "Copyright **`(c)`** 2023 Giovanni Squillero `<giovanni.squillero@polito.it>`  \n",
    "[`https://github.com/squillero/computational-intelligence`](https://github.com/squillero/computational-intelligence)  \n",
    "Free for personal or classroom use; see [`LICENSE.md`](https://github.com/squillero/computational-intelligence/blob/master/LICENSE.md) for details.  "
   ]
  },
  {
   "cell_type": "code",
   "execution_count": 38,
   "id": "3ffe7245-e849-41d0-9698-5f0e0b83fee9",
   "metadata": {},
   "outputs": [],
   "source": [
    "from itertools import product\n",
    "from functools import reduce\n",
    "from random import random, randint, shuffle, seed, choice\n",
    "import numpy as np\n",
    "from scipy import sparse\n",
    "from copy import copy"
   ]
  },
  {
   "cell_type": "code",
   "execution_count": 39,
   "id": "6f03bd67-78a0-4d72-95b7-77a918727b91",
   "metadata": {},
   "outputs": [],
   "source": [
    "def make_set_covering_problem(num_points, num_sets, density):\n",
    "    \"\"\"Returns a sparse array where rows are sets and columns are the covered items\"\"\"\n",
    "    seed(num_points*2654435761+num_sets+density)\n",
    "    sets = sparse.lil_array((num_sets, num_points), dtype=bool)\n",
    "    for s, p in product(range(num_sets), range(num_points)):\n",
    "        if random() < density:\n",
    "            sets[s, p] = True\n",
    "    for p in range(num_points):\n",
    "        sets[randint(0, num_sets-1), p] = True\n",
    "\n",
    "    return sets"
   ]
  },
  {
   "cell_type": "markdown",
   "id": "82b0be37-21d9-492d-9a1d-cf0cdf0ddd76",
   "metadata": {},
   "source": [
    "# Halloween Challenge\n",
    "\n",
    "Find the best solution with the fewest calls to the fitness functions for:\n",
    "\n",
    "* `num_points = [100, 1_000, 5_000]`\n",
    "* `num_sets = num_points`\n",
    "* `density = [.3, .7]` "
   ]
  },
  {
   "cell_type": "code",
   "execution_count": 64,
   "id": "217cfde5",
   "metadata": {},
   "outputs": [],
   "source": [
    "NUM_POINTS = 100"
   ]
  },
  {
   "cell_type": "code",
   "execution_count": 65,
   "id": "aa9be1bc",
   "metadata": {},
   "outputs": [],
   "source": [
    "def evaluate(state):\n",
    "    cost = sum(state)\n",
    "    \n",
    "    valid = np.all(\n",
    "        reduce(\n",
    "            np.logical_or,\n",
    "            [x.getrow(i).toarray() for i, t in enumerate(state) if t],\n",
    "            np.array([False for _ in range(NUM_POINTS)]),\n",
    "        )\n",
    "    )\n",
    "    return valid, -cost if valid else 0"
   ]
  },
  {
   "cell_type": "code",
   "execution_count": 66,
   "id": "8e1ee645",
   "metadata": {},
   "outputs": [],
   "source": [
    "def tweak(state):\n",
    "    new_state = copy(state)\n",
    "    index = randint(0, NUM_POINTS - 1)\n",
    "    new_state[index] = not new_state[index]\n",
    "    return new_state"
   ]
  },
  {
   "cell_type": "code",
   "execution_count": 71,
   "id": "221ffdba-5d3d-48cc-bd08-45ccc9366ea6",
   "metadata": {},
   "outputs": [
    {
     "name": "stdout",
     "output_type": "stream",
     "text": [
      "[True, True, True, True, True, True, True, False, True, True, True, True, True, True, True, False, False, True, True, True, False, True, True, True, True, False, True, False, True, False, True, False, True, False, False, True, False, False, True, False, True, True, False, True, False, True, True, False, True, True, False, True, True, True, True, True, False, True, False, False, False, True, True, True, False, False, False, False, True, True, True, True, False, True, False, False, False, False, True, True, True, True, True, True, True, True, True, False, False, True, True, True, True, False, True, False, False, True, False, False] (True, -63)\n"
     ]
    }
   ],
   "source": [
    "current_state = [choice([True, False]) for _ in range(NUM_POINTS)]\n",
    "best_state = [False for _ in range(NUM_POINTS)]\n",
    "\n",
    "print(current_state, evaluate(current_state))\n",
    "\n",
    "for _ in range(100):\n",
    "    x = make_set_covering_problem(NUM_POINTS, NUM_POINTS, .7)\n",
    "    for step in range(100):\n",
    "        new_state = tweak(current_state)\n",
    "        if evaluate(new_state) >= evaluate(current_state):\n",
    "            current_state = new_state\n",
    "            #print(current_state, evaluate(current_state))\n",
    "    if evaluate(current_state) >= evaluate(best_state):\n",
    "        best_state = current_state\n"
   ]
  },
  {
   "cell_type": "code",
   "execution_count": 70,
   "id": "776290b8",
   "metadata": {},
   "outputs": [
    {
     "name": "stdout",
     "output_type": "stream",
     "text": [
      "100, (True, -29)\n"
     ]
    }
   ],
   "source": [
    "print(f\"{NUM_POINTS}, {evaluate(current_state)}\")"
   ]
  }
 ],
 "metadata": {
  "kernelspec": {
   "display_name": "Python 3 (ipykernel)",
   "language": "python",
   "name": "python3"
  },
  "language_info": {
   "codemirror_mode": {
    "name": "ipython",
    "version": 3
   },
   "file_extension": ".py",
   "mimetype": "text/x-python",
   "name": "python",
   "nbconvert_exporter": "python",
   "pygments_lexer": "ipython3",
   "version": "3.11.2"
  }
 },
 "nbformat": 4,
 "nbformat_minor": 5
}

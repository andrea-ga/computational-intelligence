{
 "cells": [
  {
   "cell_type": "markdown",
   "metadata": {},
   "source": [
    "Copyright **`(c)`** 2023 Andrea Galella s310166\n",
    "\n",
    "`<andrea.galella@studenti.polito.it>` or `<galella.andrea@gmail.com>`\n",
    "\n",
    "[`https://github.com/andrea-ga/computational-intelligence`](https://github.com/andrea-ga/computational-intelligence)\n",
    "\n",
    "References - Course repository:  \n",
    "[`https://github.com/squillero/computational-intelligence`](https://github.com/squillero/computational-intelligence)\n",
    "\n",
    "Free for personal or classroom use; see [`LICENSE.md`](https://github.com/andrea-ga/computational-intelligence/blob/main/LICENSE.md) for details."
   ]
  },
  {
   "cell_type": "markdown",
   "metadata": {},
   "source": [
    "# LAB10\n",
    "\n",
    "Use reinforcement learning to devise a tic-tac-toe player.\n",
    "\n",
    "### Deadlines:\n",
    "\n",
    "* Submission: [Dies Natalis Solis Invicti](https://en.wikipedia.org/wiki/Sol_Invictus)\n",
    "* Reviews: [Befana](https://en.wikipedia.org/wiki/Befana)\n",
    "\n",
    "Notes:\n",
    "\n",
    "* Reviews will be assigned  on Monday, December 4\n",
    "* You need to commit in order to be selected as a reviewer (ie. better to commit an empty work than not to commit)"
   ]
  },
  {
   "cell_type": "code",
   "execution_count": 2,
   "metadata": {},
   "outputs": [],
   "source": [
    "from itertools import combinations\n",
    "from collections import namedtuple, defaultdict\n",
    "from random import choice\n",
    "from copy import deepcopy\n",
    "\n",
    "from tqdm import tqdm\n",
    "import numpy as np\n",
    "import matplotlib.pyplot as plt"
   ]
  },
  {
   "cell_type": "code",
   "execution_count": 3,
   "metadata": {},
   "outputs": [],
   "source": [
    "State = namedtuple('State', ['x', 'o'])"
   ]
  },
  {
   "cell_type": "code",
   "execution_count": 4,
   "metadata": {},
   "outputs": [],
   "source": [
    "MAGIC = [2, 7, 6,\n",
    "         9, 5, 1,\n",
    "         4, 3, 8]"
   ]
  },
  {
   "cell_type": "code",
   "execution_count": 5,
   "metadata": {},
   "outputs": [],
   "source": [
    "def print_board(pos):\n",
    "    \"\"\"Nicely prints the board\"\"\"\n",
    "    for r in range(3):\n",
    "        for c in range(3):\n",
    "            i = r * 3 + c\n",
    "            if MAGIC[i] in pos.x:\n",
    "                print('X', end='')\n",
    "            elif MAGIC[i] in pos.o:\n",
    "                print('O', end='')\n",
    "            else:\n",
    "                print('.', end='')\n",
    "        print()\n",
    "    print()"
   ]
  },
  {
   "cell_type": "code",
   "execution_count": 6,
   "metadata": {},
   "outputs": [],
   "source": [
    "def win(elements):\n",
    "    \"\"\"Checks is elements is winning\"\"\"\n",
    "    return any(sum(c) == 15 for c in combinations(elements, 3))\n",
    "\n",
    "def state_value(pos: State):\n",
    "    \"\"\"Evaluate state: +1 first player wins\"\"\"\n",
    "    if win(pos.x):\n",
    "        return 1\n",
    "    elif win(pos.o):\n",
    "        return -1\n",
    "    else:\n",
    "        return 0"
   ]
  },
  {
   "cell_type": "code",
   "execution_count": 25,
   "metadata": {},
   "outputs": [],
   "source": [
    "#Function used to draw the pie chart\n",
    "def draw_pie_chart(win_rate, loss_rate, draw_rate, title):\n",
    "    # Define data\n",
    "    data = [win_rate, loss_rate, draw_rate]\n",
    "    labels = [\"Wins\", \"Losses\", \"Draws\"]\n",
    "    colors = [\"#29F05F\", \"#EC3954\", \"#4570F8\"]\n",
    "\n",
    "    # Create a pie chart\n",
    "    fig, ax = plt.subplots()\n",
    "    ax.pie(data, labels=labels, colors=colors, autopct=\"%1.1f%%\")\n",
    "    ax.set_title(title)\n",
    "\n",
    "    # Show the chart\n",
    "    plt.show()"
   ]
  },
  {
   "cell_type": "code",
   "execution_count": 8,
   "metadata": {},
   "outputs": [],
   "source": [
    "def select_action(Q_table, state):\n",
    "    # Choose the action with the highest Q-value\n",
    "    if state not in Q_table:\n",
    "        Q_table[state] = np.array([0.0, 0.0, 0.0, 0.0, 0.0, 0.0, 0.0, 0.0, 0.0])\n",
    "\n",
    "    max_Q = np.max(np.array([x for i, x in enumerate(Q_table[state]) if (i+1) not in state[0] and (i+1) not in state[1]]))\n",
    "    best_actions = []\n",
    "\n",
    "    # Get all actions that have the highest Q-value\n",
    "    for i, q_value in enumerate(Q_table[state]):\n",
    "        if q_value == max_Q and (i+1) not in state[0] and (i+1) not in state[1]:\n",
    "            best_actions.append(i+1)\n",
    "\n",
    "    # Randomly select one of the best actions\n",
    "    action = best_actions[np.random.randint(len(best_actions))]\n",
    "\n",
    "    return action"
   ]
  },
  {
   "cell_type": "code",
   "execution_count": 101,
   "metadata": {},
   "outputs": [],
   "source": [
    "alpha = 0.3\n",
    "gamma = 0.8\n",
    "\n",
    "def update_Q_table(Q_table, state, action, reward, next_state):\n",
    "    if state not in Q_table:\n",
    "        Q_table[state] = np.array([0.0, 0.0, 0.0, 0.0, 0.0, 0.0, 0.0, 0.0, 0.0])\n",
    "    \n",
    "    if next_state not in Q_table:\n",
    "        Q_table[next_state] = np.array([0.0, 0.0, 0.0, 0.0, 0.0, 0.0, 0.0, 0.0, 0.0])\n",
    "    \n",
    "    max_next_Q = np.max(Q_table[next_state])\n",
    "    #TEMPORAL DIFFERENCE\n",
    "    Q_table[state][action-1] = (1 - alpha) * Q_table[state][action-1] + alpha * (reward + gamma * max_next_Q)\n",
    "    #MONTE CARLO LEARNING\n",
    "    #Q_table[state][action-1] = Q_table[state][action-1] + alpha * reward"
   ]
  },
  {
   "cell_type": "markdown",
   "metadata": {},
   "source": [
    "## RL vs RANDOM"
   ]
  },
  {
   "cell_type": "code",
   "execution_count": 74,
   "metadata": {},
   "outputs": [],
   "source": [
    "def rl_game(Q_table):\n",
    "    trajectory = list()\n",
    "    state = State(set(), set())\n",
    "    available = set(range(1, 9+1))\n",
    "    \n",
    "    while available:\n",
    "        # Select an action\n",
    "        action = select_action(Q_table, (frozenset(state.x), frozenset(state.o)))\n",
    "\n",
    "        x = action\n",
    "        next_state = deepcopy(state)\n",
    "        next_state.x.add(x)\n",
    "        trajectory.append(deepcopy(next_state))\n",
    "        available.remove(x)\n",
    "\n",
    "        reward = state_value(next_state)\n",
    "        update_Q_table(Q_table, (frozenset(state.x), frozenset(state.o)), action, reward, (frozenset(next_state.x), frozenset(next_state.o)))\n",
    "\n",
    "        state = next_state\n",
    "\n",
    "        if available:\n",
    "            o = choice(list(available))\n",
    "            next_state = deepcopy(state)\n",
    "            next_state.o.add(o)\n",
    "            trajectory.append(deepcopy(next_state))\n",
    "            available.remove(o)\n",
    "\n",
    "            action = o\n",
    "            reward = state_value(next_state)\n",
    "            update_Q_table(Q_table, (frozenset(state.x), frozenset(state.o)), action, reward, (frozenset(next_state.x), frozenset(next_state.o)))\n",
    "\n",
    "            state = next_state\n",
    "\n",
    "        # Check if there's a winner\n",
    "        if win(state.x):\n",
    "            return 1, trajectory\n",
    "        elif win(state.o):\n",
    "            return 2, trajectory\n",
    "\n",
    "    # Draw\n",
    "    return 0, trajectory"
   ]
  },
  {
   "cell_type": "markdown",
   "metadata": {},
   "source": [
    "## SINGLE GAME"
   ]
  },
  {
   "cell_type": "code",
   "execution_count": 96,
   "metadata": {},
   "outputs": [
    {
     "name": "stdout",
     "output_type": "stream",
     "text": [
      "3\n",
      "(frozenset(), frozenset())\n",
      "(frozenset({3}), frozenset())\n",
      "[0. 0. 0. 0. 0. 0. 0. 0. 0.]\n",
      "1\n",
      "(frozenset({3}), frozenset())\n",
      "(frozenset({3}), frozenset({1}))\n",
      "[0. 0. 0. 0. 0. 0. 0. 0. 0.]\n",
      "4\n",
      "(frozenset({3}), frozenset({1}))\n",
      "(frozenset({3, 4}), frozenset({1}))\n",
      "[0. 0. 0. 0. 0. 0. 0. 0. 0.]\n",
      "8\n",
      "(frozenset({3, 4}), frozenset({1}))\n",
      "(frozenset({3, 4}), frozenset({8, 1}))\n",
      "[0. 0. 0. 0. 0. 0. 0. 0. 0.]\n",
      "9\n",
      "(frozenset({3, 4}), frozenset({8, 1}))\n",
      "(frozenset({9, 3, 4}), frozenset({8, 1}))\n",
      "[0. 0. 0. 0. 0. 0. 0. 0. 0.]\n",
      "5\n",
      "(frozenset({9, 3, 4}), frozenset({8, 1}))\n",
      "(frozenset({9, 3, 4}), frozenset({8, 1, 5}))\n",
      "[0. 0. 0. 0. 0. 0. 0. 0. 0.]\n",
      "6\n",
      "(frozenset({9, 3, 4}), frozenset({8, 1, 5}))\n",
      "(frozenset({9, 3, 4, 6}), frozenset({8, 1, 5}))\n",
      "[0. 0. 0. 0. 0. 0. 0. 0. 0.]\n",
      "7\n",
      "(frozenset({9, 3, 4, 6}), frozenset({8, 1, 5}))\n",
      "(frozenset({9, 3, 4, 6}), frozenset({8, 1, 5, 7}))\n",
      "[0. 0. 0. 0. 0. 0. 0. 0. 0.]\n",
      "2\n",
      "(frozenset({9, 3, 4, 6}), frozenset({8, 1, 5, 7}))\n",
      "(frozenset({2, 3, 4, 6, 9}), frozenset({8, 1, 5, 7}))\n",
      "[0. 0. 0. 0. 0. 0. 0. 0. 0.]\n",
      "1\n",
      "[State(x={3}, o=set()), State(x={3}, o={1}), State(x={3, 4}, o={1}), State(x={3, 4}, o={8, 1}), State(x={9, 3, 4}, o={8, 1}), State(x={9, 3, 4}, o={8, 1, 5}), State(x={9, 3, 4, 6}, o={8, 1, 5}), State(x={9, 3, 4, 6}, o={8, 1, 5, 7}), State(x={2, 3, 4, 6, 9}, o={8, 1, 5, 7})]\n",
      "defaultdict(<class 'list'>, {(frozenset(), frozenset()): array([0., 0., 0., 0., 0., 0., 0., 0., 0.]), (frozenset({3}), frozenset()): array([0., 0., 0., 0., 0., 0., 0., 0., 0.]), (frozenset({3}), frozenset({1})): array([0., 0., 0., 0., 0., 0., 0., 0., 0.]), (frozenset({3, 4}), frozenset({1})): array([0., 0., 0., 0., 0., 0., 0., 0., 0.]), (frozenset({3, 4}), frozenset({8, 1})): array([0., 0., 0., 0., 0., 0., 0., 0., 0.]), (frozenset({9, 3, 4}), frozenset({8, 1})): array([0., 0., 0., 0., 0., 0., 0., 0., 0.]), (frozenset({9, 3, 4}), frozenset({8, 1, 5})): array([0., 0., 0., 0., 0., 0., 0., 0., 0.]), (frozenset({9, 3, 4, 6}), frozenset({8, 1, 5})): array([0., 0., 0., 0., 0., 0., 0., 0., 0.]), (frozenset({9, 3, 4, 6}), frozenset({8, 1, 5, 7})): array([0. , 0.3, 0. , 0. , 0. , 0. , 0. , 0. , 0. ]), (frozenset({2, 3, 4, 6, 9}), frozenset({8, 1, 5, 7})): array([0., 0., 0., 0., 0., 0., 0., 0., 0.])})\n"
     ]
    }
   ],
   "source": [
    "Q_table = defaultdict(list)\n",
    "winner, trajectory =  rl_game(Q_table)\n",
    "print(winner)\n",
    "print(trajectory)\n",
    "print(Q_table)"
   ]
  },
  {
   "cell_type": "markdown",
   "metadata": {},
   "source": [
    "## MULTIPLE GAMES"
   ]
  },
  {
   "cell_type": "code",
   "execution_count": 76,
   "metadata": {},
   "outputs": [
    {
     "name": "stderr",
     "output_type": "stream",
     "text": [
      "  0%|          | 0/100000 [00:00<?, ?it/s]"
     ]
    },
    {
     "name": "stderr",
     "output_type": "stream",
     "text": [
      "100%|██████████| 100000/100000 [00:40<00:00, 2480.14it/s]\n"
     ]
    },
    {
     "data": {
      "image/png": "[encoded data removed]",
      "text/plain": [
       "<Figure size 640x480 with 1 Axes>"
      ]
     },
     "metadata": {},
     "output_type": "display_data"
    }
   ],
   "source": [
    "Q_table = defaultdict(list)\n",
    "counter_w = 0\n",
    "counter_l = 0\n",
    "iterations = 100_000\n",
    "\n",
    "for _ in tqdm(range(iterations)):\n",
    "    winner, trajectory =  rl_game(Q_table)\n",
    "    if winner == 1:\n",
    "        counter_w += 1\n",
    "    elif winner == 2:\n",
    "        counter_l += 1\n",
    "draw_pie_chart(counter_w, counter_l, iterations - counter_w - counter_l, f\"Results with {iterations} games\")"
   ]
  },
  {
   "cell_type": "markdown",
   "metadata": {},
   "source": [
    "## RANDOM vs RL"
   ]
  },
  {
   "cell_type": "code",
   "execution_count": 99,
   "metadata": {},
   "outputs": [],
   "source": [
    "def rl2_game(Q_table):\n",
    "    trajectory = list()\n",
    "    state = State(set(), set())\n",
    "    available = set(range(1, 9+1))\n",
    "    \n",
    "    while available:\n",
    "        o = choice(list(available))\n",
    "        next_state = deepcopy(state)\n",
    "        next_state.o.add(o)\n",
    "        trajectory.append(deepcopy(next_state))\n",
    "        available.remove(o)\n",
    "\n",
    "        action = o\n",
    "        reward = - state_value(next_state)\n",
    "        update_Q_table(Q_table, (frozenset(state.x), frozenset(state.o)), action, reward, (frozenset(next_state.x), frozenset(next_state.o)))\n",
    "\n",
    "        state = next_state\n",
    "\n",
    "        if available:\n",
    "            # Select an action\n",
    "            action = select_action(Q_table, (frozenset(state.x), frozenset(state.o)))\n",
    "\n",
    "            x = action\n",
    "            next_state = deepcopy(state)\n",
    "            next_state.x.add(x)\n",
    "            trajectory.append(deepcopy(next_state))\n",
    "            available.remove(x)\n",
    "\n",
    "            reward = - state_value(next_state)\n",
    "            update_Q_table(Q_table, (frozenset(state.x), frozenset(state.o)), action, reward, (frozenset(next_state.x), frozenset(next_state.o)))\n",
    "        \n",
    "            state = next_state\n",
    "\n",
    "        # Check if there's a winner\n",
    "        if win(state.x):\n",
    "            return 1, trajectory\n",
    "        elif win(state.o):\n",
    "            return 2, trajectory\n",
    "\n",
    "    # Draw\n",
    "    return 0, trajectory"
   ]
  },
  {
   "cell_type": "markdown",
   "metadata": {},
   "source": [
    "## SINGLE GAME"
   ]
  },
  {
   "cell_type": "code",
   "execution_count": 104,
   "metadata": {},
   "outputs": [
    {
     "name": "stdout",
     "output_type": "stream",
     "text": [
      "2\n",
      "[State(x=set(), o={2}), State(x={4}, o={2}), State(x={4}, o={2, 3}), State(x={1, 4}, o={2, 3}), State(x={1, 4}, o={2, 3, 5}), State(x={1, 4, 9}, o={2, 3, 5}), State(x={1, 4, 9}, o={8, 2, 3, 5}), State(x={1, 4, 9, 7}, o={8, 2, 3, 5})]\n",
      "defaultdict(<class 'list'>, {(frozenset(), frozenset()): array([0., 0., 0., 0., 0., 0., 0., 0., 0.]), (frozenset(), frozenset({2})): array([0., 0., 0., 0., 0., 0., 0., 0., 0.]), (frozenset({4}), frozenset({2})): array([0., 0., 0., 0., 0., 0., 0., 0., 0.]), (frozenset({4}), frozenset({2, 3})): array([0., 0., 0., 0., 0., 0., 0., 0., 0.]), (frozenset({1, 4}), frozenset({2, 3})): array([0., 0., 0., 0., 0., 0., 0., 0., 0.]), (frozenset({1, 4}), frozenset({2, 3, 5})): array([0., 0., 0., 0., 0., 0., 0., 0., 0.]), (frozenset({1, 4, 9}), frozenset({2, 3, 5})): array([0. , 0. , 0. , 0. , 0. , 0. , 0. , 0.3, 0. ]), (frozenset({1, 4, 9}), frozenset({8, 2, 3, 5})): array([0. , 0. , 0. , 0. , 0. , 0. , 0.3, 0. , 0. ]), (frozenset({1, 4, 9, 7}), frozenset({8, 2, 3, 5})): array([0., 0., 0., 0., 0., 0., 0., 0., 0.])})\n"
     ]
    }
   ],
   "source": [
    "Q_table = defaultdict(list)\n",
    "winner, trajectory =  rl2_game(Q_table)\n",
    "print(winner)\n",
    "print(trajectory)\n",
    "print(Q_table)"
   ]
  },
  {
   "cell_type": "markdown",
   "metadata": {},
   "source": [
    "## MULTIPLE GAMES"
   ]
  },
  {
   "cell_type": "code",
   "execution_count": 105,
   "metadata": {},
   "outputs": [
    {
     "name": "stderr",
     "output_type": "stream",
     "text": [
      "100%|██████████| 100000/100000 [00:48<00:00, 2083.06it/s]\n"
     ]
    },
    {
     "data": {
      "image/png": "[encoded data removed]",
      "text/plain": [
       "<Figure size 640x480 with 1 Axes>"
      ]
     },
     "metadata": {},
     "output_type": "display_data"
    }
   ],
   "source": [
    "Q_table = defaultdict(list)\n",
    "counter_w = 0\n",
    "counter_l = 0\n",
    "iterations = 100_000\n",
    "\n",
    "for _ in tqdm(range(iterations)):\n",
    "    winner, trajectory =  rl2_game(Q_table)\n",
    "    if winner == 2:\n",
    "        counter_w += 1\n",
    "    elif winner == 1:\n",
    "        counter_l += 1\n",
    "draw_pie_chart(counter_w, counter_l, iterations - counter_w - counter_l, f\"Results with {iterations} games\")"
   ]
  },
  {
   "cell_type": "code",
   "execution_count": 30,
   "metadata": {},
   "outputs": [],
   "source": [
    "def random_game():\n",
    "    trajectory = list()\n",
    "    state = State(set(), set())\n",
    "    available = set(range(1, 9+1))\n",
    "    while available:\n",
    "        x = choice(list(available))\n",
    "        state.x.add(x)\n",
    "        trajectory.append(deepcopy(state))\n",
    "        available.remove(x)\n",
    "        if win(state.x) or not available:\n",
    "            break\n",
    "\n",
    "        o = choice(list(available))\n",
    "        state.o.add(o)\n",
    "        trajectory.append(deepcopy(state))\n",
    "        available.remove(o)\n",
    "        if win(state.o):\n",
    "            break\n",
    "    return trajectory"
   ]
  },
  {
   "cell_type": "code",
   "execution_count": 31,
   "metadata": {},
   "outputs": [
    {
     "name": "stderr",
     "output_type": "stream",
     "text": [
      "  0%|          | 0/500000 [00:00<?, ?it/s]"
     ]
    },
    {
     "name": "stderr",
     "output_type": "stream",
     "text": [
      "100%|██████████| 500000/500000 [01:22<00:00, 6059.61it/s]\n"
     ]
    }
   ],
   "source": [
    "value_dictionary = defaultdict(float)\n",
    "hit_state = defaultdict(int)\n",
    "epsilon = 0.001\n",
    "\n",
    "for steps in tqdm(range(500_000)):\n",
    "    trajectory = random_game()\n",
    "    final_reward = state_value(trajectory[-1])\n",
    "    for state in trajectory:\n",
    "        hashable_state = (frozenset(state.x), frozenset(state.o))\n",
    "        hit_state[hashable_state] += 1\n",
    "        value_dictionary[hashable_state] = value_dictionary[\n",
    "            hashable_state\n",
    "        ] + epsilon * (final_reward - value_dictionary[hashable_state])"
   ]
  },
  {
   "cell_type": "code",
   "execution_count": 32,
   "metadata": {},
   "outputs": [
    {
     "data": {
      "text/plain": [
       "[((frozenset({1, 2, 3, 6, 8}), frozenset({4, 5, 7, 9})), 0.9172760676239365),\n",
       " ((frozenset({2, 3, 4, 6, 9}), frozenset({1, 5, 7, 8})), 0.9156040888197092),\n",
       " ((frozenset({1, 2, 3, 4, 8}), frozenset({5, 6, 7, 9})), 0.9151808403653648),\n",
       " ((frozenset({1, 5, 7, 8, 9}), frozenset({2, 3, 4, 6})), 0.9150959363016665),\n",
       " ((frozenset({2, 6, 7, 8, 9}), frozenset({1, 3, 4, 5})), 0.9147554693051785),\n",
       " ((frozenset({1, 6, 7, 8, 9}), frozenset({2, 3, 4, 5})), 0.9144136370292133),\n",
       " ((frozenset({2, 3, 5, 6, 8}), frozenset({1, 4, 7, 9})), 0.9144136370292133),\n",
       " ((frozenset({4, 5, 6, 7, 9}), frozenset({1, 2, 3, 8})), 0.9137258547177051),\n",
       " ((frozenset({2, 3, 6, 7, 9}), frozenset({1, 4, 5, 8})), 0.9132931868534693),\n",
       " ((frozenset({1, 4, 5, 6, 7}), frozenset({2, 3, 8, 9})), 0.9114521600198158)]"
      ]
     },
     "execution_count": 32,
     "metadata": {},
     "output_type": "execute_result"
    }
   ],
   "source": [
    "sorted(value_dictionary.items(), key=lambda e: e[1], reverse=True)[:10]"
   ]
  },
  {
   "cell_type": "code",
   "execution_count": 33,
   "metadata": {},
   "outputs": [
    {
     "data": {
      "text/plain": [
       "5477"
      ]
     },
     "execution_count": 33,
     "metadata": {},
     "output_type": "execute_result"
    }
   ],
   "source": [
    "len(hit_state)"
   ]
  },
  {
   "cell_type": "code",
   "execution_count": 34,
   "metadata": {},
   "outputs": [],
   "source": [
    "def rl0_game():\n",
    "    trajectory = list()\n",
    "    state = State(set(), set())\n",
    "    available = set(range(1, 9+1))\n",
    "\n",
    "    while available:\n",
    "        found = False\n",
    "        for f in sorted(value_dictionary.items(), key=lambda e: e[1], reverse=True):\n",
    "            if found:\n",
    "                break\n",
    "\n",
    "            if len(f[0][0]) + len(f[0][1]) == 9 - len(available) + 1 and state.x.issubset(f[0][0]):\n",
    "                for v in f[0][0]:\n",
    "                    if v not in state.x and v in available:\n",
    "                        x = v\n",
    "                        found = True\n",
    "                        break\n",
    "        \n",
    "        state.x.add(x)\n",
    "        trajectory.append(deepcopy(state))\n",
    "        available.remove(x)\n",
    "        if win(state.x) or not available:\n",
    "            return 1\n",
    "\n",
    "        o = choice(list(available))\n",
    "        state.o.add(o)\n",
    "        trajectory.append(deepcopy(state))\n",
    "        available.remove(o)\n",
    "        if win(state.o):\n",
    "            return 2\n",
    "    return 0"
   ]
  },
  {
   "cell_type": "code",
   "execution_count": 37,
   "metadata": {},
   "outputs": [
    {
     "name": "stderr",
     "output_type": "stream",
     "text": [
      "100%|██████████| 100000/100000 [21:11<00:00, 78.63it/s]\n"
     ]
    },
    {
     "data": {
      "image/png": "[encoded data removed]",
      "text/plain": [
       "<Figure size 640x480 with 1 Axes>"
      ]
     },
     "metadata": {},
     "output_type": "display_data"
    }
   ],
   "source": [
    "counter_w = 0\n",
    "counter_l = 0\n",
    "iterations = 100_000\n",
    "\n",
    "for _ in tqdm(range(iterations)):\n",
    "    winner =  rl0_game()\n",
    "    if winner == 1:\n",
    "        counter_w += 1\n",
    "    elif winner == 2:\n",
    "        counter_l += 1\n",
    "draw_pie_chart(counter_w, counter_l, iterations - counter_w - counter_l, f\"Results with {iterations} games\")"
   ]
  }
 ],
 "metadata": {
  "kernelspec": {
   "display_name": "ci-fLJ3OwGs-py3.12",
   "language": "python",
   "name": "python3"
  },
  "language_info": {
   "codemirror_mode": {
    "name": "ipython",
    "version": 3
   },
   "file_extension": ".py",
   "mimetype": "text/x-python",
   "name": "python",
   "nbconvert_exporter": "python",
   "pygments_lexer": "ipython3",
   "version": "3.11.2"
  }
 },
 "nbformat": 4,
 "nbformat_minor": 2
}

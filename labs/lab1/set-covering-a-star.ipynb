{
 "cells": [
  {
   "cell_type": "code",
   "execution_count": 133,
   "metadata": {},
   "outputs": [],
   "source": [
    "from random import random\n",
    "from functools import reduce\n",
    "from collections import namedtuple\n",
    "from queue import PriorityQueue, SimpleQueue, LifoQueue\n",
    "from itertools import permutations\n",
    "\n",
    "import numpy as np"
   ]
  },
  {
   "cell_type": "code",
   "execution_count": 134,
   "metadata": {},
   "outputs": [
    {
     "name": "stdout",
     "output_type": "stream",
     "text": [
      "(array([ True,  True, False,  True, False]), array([False,  True,  True,  True, False]), array([ True, False,  True, False, False]), array([ True, False, False, False, False]), array([ True, False,  True, False, False]), array([False, False, False, False, False]), array([False, False, False,  True,  True]), array([False, False, False, False, False]), array([False, False, False,  True,  True]), array([False,  True,  True, False,  True]))\n"
     ]
    }
   ],
   "source": [
    "PROBLEM_SIZE = 5\n",
    "NUM_SETS = 10 #number of tiles\n",
    "SETS = tuple(np.array([random() < .3 for _ in range(PROBLEM_SIZE)]) for _ in range(NUM_SETS))\n",
    "State = namedtuple('State', ['taken', 'not_taken'])\n",
    "\n",
    "print(SETS)"
   ]
  },
  {
   "cell_type": "code",
   "execution_count": 135,
   "metadata": {},
   "outputs": [],
   "source": [
    "def goal_check(state):\n",
    "    return np.all(\n",
    "        reduce(\n",
    "            np.logical_or,\n",
    "            [SETS[i] for i in state.taken],\n",
    "            np.array([False for _ in range(PROBLEM_SIZE)]),\n",
    "        )\n",
    "    )\n",
    "\n",
    "\n",
    "def distance(state):\n",
    "    return PROBLEM_SIZE - sum(\n",
    "        reduce(\n",
    "            np.logical_or,\n",
    "            [SETS[i] for i in state.taken],\n",
    "            np.array([False for _ in range(PROBLEM_SIZE)]),\n",
    "        )\n",
    "    )\n",
    "\n",
    "\n",
    "def check_num(min_tiles, state):\n",
    "    for i in permutations(state.not_taken, r = min_tiles):\n",
    "        new_state = State(state.taken, state.not_taken)\n",
    "        for j in i:\n",
    "            new_state = State(new_state.taken ^ {j}, new_state.not_taken ^ {j})\n",
    "\n",
    "        if goal_check(new_state):\n",
    "            return True\n",
    "\n",
    "    return False"
   ]
  },
  {
   "cell_type": "code",
   "execution_count": 136,
   "metadata": {},
   "outputs": [],
   "source": [
    "assert goal_check(State(set(range(NUM_SETS)), set())), \"Problem not solvable\""
   ]
  },
  {
   "cell_type": "code",
   "execution_count": 137,
   "metadata": {},
   "outputs": [
    {
     "name": "stdout",
     "output_type": "stream",
     "text": [
      "g=1 , distance = 2,  h=1 , sum=2, State(taken={0}, not_taken={1, 2, 3, 4, 5, 6, 7, 8, 9})\n",
      "g=1 , distance = 2,  h=2 , sum=3, State(taken={1}, not_taken={0, 2, 3, 4, 5, 6, 7, 8, 9})\n",
      "g=1 , distance = 3,  h=2 , sum=3, State(taken={2}, not_taken={0, 1, 3, 4, 5, 6, 7, 8, 9})\n",
      "g=1 , distance = 4,  h=2 , sum=3, State(taken={3}, not_taken={0, 1, 2, 4, 5, 6, 7, 8, 9})\n",
      "g=1 , distance = 3,  h=2 , sum=3, State(taken={4}, not_taken={0, 1, 2, 3, 5, 6, 7, 8, 9})\n",
      "g=1 , distance = 5,  h=2 , sum=3, State(taken={5}, not_taken={0, 1, 2, 3, 4, 6, 7, 8, 9})\n",
      "g=1 , distance = 3,  h=2 , sum=3, State(taken={6}, not_taken={0, 1, 2, 3, 4, 5, 7, 8, 9})\n",
      "g=1 , distance = 5,  h=2 , sum=3, State(taken={7}, not_taken={0, 1, 2, 3, 4, 5, 6, 8, 9})\n",
      "g=1 , distance = 3,  h=2 , sum=3, State(taken={8}, not_taken={0, 1, 2, 3, 4, 5, 6, 7, 9})\n",
      "g=1 , distance = 2,  h=1 , sum=2, State(taken={9}, not_taken={0, 1, 2, 3, 4, 5, 6, 7, 8})\n",
      "STEP 1:  State(taken={0}, not_taken={1, 2, 3, 4, 5, 6, 7, 8, 9})\n",
      "g=2 , distance = 1,  h=1 , sum=3, State(taken={0, 1}, not_taken={2, 3, 4, 5, 6, 7, 8, 9})\n",
      "g=2 , distance = 1,  h=1 , sum=3, State(taken={0, 2}, not_taken={1, 3, 4, 5, 6, 7, 8, 9})\n",
      "g=2 , distance = 2,  h=1 , sum=3, State(taken={0, 3}, not_taken={1, 2, 4, 5, 6, 7, 8, 9})\n",
      "g=2 , distance = 1,  h=1 , sum=3, State(taken={0, 4}, not_taken={1, 2, 3, 5, 6, 7, 8, 9})\n",
      "g=2 , distance = 2,  h=1 , sum=3, State(taken={0, 5}, not_taken={1, 2, 3, 4, 6, 7, 8, 9})\n",
      "g=2 , distance = 1,  h=1 , sum=3, State(taken={0, 6}, not_taken={1, 2, 3, 4, 5, 7, 8, 9})\n",
      "g=2 , distance = 2,  h=1 , sum=3, State(taken={0, 7}, not_taken={1, 2, 3, 4, 5, 6, 8, 9})\n",
      "g=2 , distance = 1,  h=1 , sum=3, State(taken={8, 0}, not_taken={1, 2, 3, 4, 5, 6, 7, 9})\n",
      "g=2 , distance = 0,  h=0 , sum=2, State(taken={0, 9}, not_taken={1, 2, 3, 4, 5, 6, 7, 8})\n",
      "STEP 2:  State(taken={9}, not_taken={0, 1, 2, 3, 4, 5, 6, 7, 8})\n",
      "g=2 , distance = 0,  h=0 , sum=2, State(taken={0, 9}, not_taken={1, 2, 3, 4, 5, 6, 7, 8})\n",
      "g=2 , distance = 1,  h=1 , sum=3, State(taken={1, 9}, not_taken={0, 2, 3, 4, 5, 6, 7, 8})\n",
      "g=2 , distance = 1,  h=1 , sum=3, State(taken={9, 2}, not_taken={0, 1, 3, 4, 5, 6, 7, 8})\n",
      "g=2 , distance = 1,  h=1 , sum=3, State(taken={9, 3}, not_taken={0, 1, 2, 4, 5, 6, 7, 8})\n",
      "g=2 , distance = 1,  h=1 , sum=3, State(taken={9, 4}, not_taken={0, 1, 2, 3, 5, 6, 7, 8})\n",
      "g=2 , distance = 2,  h=1 , sum=3, State(taken={9, 5}, not_taken={0, 1, 2, 3, 4, 6, 7, 8})\n",
      "g=2 , distance = 1,  h=1 , sum=3, State(taken={9, 6}, not_taken={0, 1, 2, 3, 4, 5, 7, 8})\n",
      "g=2 , distance = 2,  h=1 , sum=3, State(taken={9, 7}, not_taken={0, 1, 2, 3, 4, 5, 6, 8})\n",
      "g=2 , distance = 1,  h=1 , sum=3, State(taken={8, 9}, not_taken={0, 1, 2, 3, 4, 5, 6, 7})\n",
      "STEP 3:  State(taken={0, 9}, not_taken={1, 2, 3, 4, 5, 6, 7, 8})\n",
      "Solved in 3 steps (2 tiles)\n"
     ]
    }
   ],
   "source": [
    "frontier = PriorityQueue()\n",
    "state = State(set(), set(range(NUM_SETS)))\n",
    "frontier.put((distance(state), state))\n",
    "\n",
    "counter = 0\n",
    "_, current_state = frontier.get()\n",
    "while not goal_check(current_state):\n",
    "    counter += 1\n",
    "    for action in current_state[1]:\n",
    "        new_state = State(\n",
    "            current_state.taken ^ {action}, current_state.not_taken ^ {action}\n",
    "        )\n",
    "\n",
    "        #COST (g) = number of tiles taken starting from the root.\n",
    "        #HEURISTIC (h) = min number of tiles I need to cover all the sets. This number is <= than the distance.\n",
    "\n",
    "        min_tiles = 0\n",
    "\n",
    "        while min_tiles != distance(new_state): \n",
    "            min_tiles += 1\n",
    "\n",
    "            if check_num(min_tiles, new_state):\n",
    "                break\n",
    "\n",
    "\n",
    "        frontier.put((len(new_state.taken) + min_tiles, new_state))\n",
    "        print(f\"g={len(new_state.taken)} , distance = {distance(new_state)},  h={min_tiles} , sum={len(new_state.taken) + min_tiles}, {new_state}\")\n",
    "    _, current_state = frontier.get()\n",
    "    print(f\"STEP {counter}:  {current_state}\")\n",
    "\n",
    "print(f\"Solved in {counter:,} steps ({len(current_state.taken)} tiles)\")"
   ]
  },
  {
   "cell_type": "code",
   "execution_count": 138,
   "metadata": {},
   "outputs": [
    {
     "data": {
      "text/plain": [
       "State(taken={0, 9}, not_taken={1, 2, 3, 4, 5, 6, 7, 8})"
      ]
     },
     "execution_count": 138,
     "metadata": {},
     "output_type": "execute_result"
    }
   ],
   "source": [
    "current_state"
   ]
  },
  {
   "cell_type": "code",
   "execution_count": 139,
   "metadata": {},
   "outputs": [
    {
     "data": {
      "text/plain": [
       "True"
      ]
     },
     "execution_count": 139,
     "metadata": {},
     "output_type": "execute_result"
    }
   ],
   "source": [
    "goal_check(current_state)"
   ]
  }
 ],
 "metadata": {
  "kernelspec": {
   "display_name": "venv",
   "language": "python",
   "name": "python3"
  },
  "language_info": {
   "codemirror_mode": {
    "name": "ipython",
    "version": 3
   },
   "file_extension": ".py",
   "mimetype": "text/x-python",
   "name": "python",
   "nbconvert_exporter": "python",
   "pygments_lexer": "ipython3",
   "version": "3.11.2"
  }
 },
 "nbformat": 4,
 "nbformat_minor": 2
}

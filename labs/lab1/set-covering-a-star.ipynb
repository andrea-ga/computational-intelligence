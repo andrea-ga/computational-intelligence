{
 "cells": [
  {
   "cell_type": "code",
   "execution_count": 1,
   "metadata": {},
   "outputs": [],
   "source": [
    "from random import random\n",
    "from functools import reduce\n",
    "from collections import namedtuple\n",
    "from queue import PriorityQueue, SimpleQueue, LifoQueue\n",
    "\n",
    "import numpy as np"
   ]
  },
  {
   "cell_type": "code",
   "execution_count": 2,
   "metadata": {},
   "outputs": [
    {
     "name": "stdout",
     "output_type": "stream",
     "text": [
      "(array([False, False,  True,  True,  True]), array([ True, False, False, False, False]), array([False, False, False, False, False]), array([False,  True, False, False,  True]), array([False, False, False,  True, False]), array([False, False, False,  True, False]), array([ True, False, False,  True, False]), array([False, False, False, False,  True]), array([ True, False, False,  True, False]), array([False, False,  True, False,  True]))\n"
     ]
    }
   ],
   "source": [
    "PROBLEM_SIZE = 5\n",
    "NUM_SETS = 10 #number of tiles\n",
    "SETS = tuple(np.array([random() < .3 for _ in range(PROBLEM_SIZE)]) for _ in range(NUM_SETS))\n",
    "State = namedtuple('State', ['taken', 'not_taken'])\n",
    "\n",
    "print(SETS)"
   ]
  },
  {
   "cell_type": "code",
   "execution_count": 3,
   "metadata": {},
   "outputs": [],
   "source": [
    "def goal_check(state):\n",
    "    return np.all(\n",
    "        reduce(\n",
    "            np.logical_or,\n",
    "            [SETS[i] for i in state.taken],\n",
    "            np.array([False for _ in range(PROBLEM_SIZE)]),\n",
    "        )\n",
    "    )\n",
    "\n",
    "\n",
    "def distance(state):\n",
    "    return PROBLEM_SIZE - sum(\n",
    "        reduce(\n",
    "            np.logical_or,\n",
    "            [SETS[i] for i in state.taken],\n",
    "            np.array([False for _ in range(PROBLEM_SIZE)]),\n",
    "        )\n",
    "    )"
   ]
  },
  {
   "cell_type": "code",
   "execution_count": 4,
   "metadata": {},
   "outputs": [],
   "source": [
    "assert goal_check(State(set(range(NUM_SETS)), set())), \"Problem not solvable\""
   ]
  },
  {
   "cell_type": "code",
   "execution_count": 5,
   "metadata": {},
   "outputs": [
    {
     "name": "stdout",
     "output_type": "stream",
     "text": [
      "State(taken={0}, not_taken={1, 2, 3, 4, 5, 6, 7, 8, 9})\n",
      "State(taken={1}, not_taken={0, 2, 3, 4, 5, 6, 7, 8, 9})\n",
      "State(taken={2}, not_taken={0, 1, 3, 4, 5, 6, 7, 8, 9})\n",
      "State(taken={3}, not_taken={0, 1, 2, 4, 5, 6, 7, 8, 9})\n",
      "State(taken={4}, not_taken={0, 1, 2, 3, 5, 6, 7, 8, 9})\n",
      "State(taken={5}, not_taken={0, 1, 2, 3, 4, 6, 7, 8, 9})\n",
      "State(taken={6}, not_taken={0, 1, 2, 3, 4, 5, 7, 8, 9})\n",
      "State(taken={7}, not_taken={0, 1, 2, 3, 4, 5, 6, 8, 9})\n",
      "State(taken={8}, not_taken={0, 1, 2, 3, 4, 5, 6, 7, 9})\n",
      "State(taken={9}, not_taken={0, 1, 2, 3, 4, 5, 6, 7, 8})\n",
      "FINE:  State(taken={0}, not_taken={1, 2, 3, 4, 5, 6, 7, 8, 9})\n",
      "State(taken={0, 1}, not_taken={2, 3, 4, 5, 6, 7, 8, 9})\n",
      "State(taken={0, 2}, not_taken={1, 3, 4, 5, 6, 7, 8, 9})\n",
      "State(taken={0, 3}, not_taken={1, 2, 4, 5, 6, 7, 8, 9})\n",
      "State(taken={0, 4}, not_taken={1, 2, 3, 5, 6, 7, 8, 9})\n",
      "State(taken={0, 5}, not_taken={1, 2, 3, 4, 6, 7, 8, 9})\n",
      "State(taken={0, 6}, not_taken={1, 2, 3, 4, 5, 7, 8, 9})\n",
      "State(taken={0, 7}, not_taken={1, 2, 3, 4, 5, 6, 8, 9})\n",
      "State(taken={8, 0}, not_taken={1, 2, 3, 4, 5, 6, 7, 9})\n",
      "State(taken={0, 9}, not_taken={1, 2, 3, 4, 5, 6, 7, 8})\n",
      "FINE:  State(taken={0, 1}, not_taken={2, 3, 4, 5, 6, 7, 8, 9})\n",
      "State(taken={0, 1, 2}, not_taken={3, 4, 5, 6, 7, 8, 9})\n",
      "State(taken={0, 1, 3}, not_taken={2, 4, 5, 6, 7, 8, 9})\n",
      "State(taken={0, 1, 4}, not_taken={2, 3, 5, 6, 7, 8, 9})\n",
      "State(taken={0, 1, 5}, not_taken={2, 3, 4, 6, 7, 8, 9})\n",
      "State(taken={0, 1, 6}, not_taken={2, 3, 4, 5, 7, 8, 9})\n",
      "State(taken={0, 1, 7}, not_taken={2, 3, 4, 5, 6, 8, 9})\n",
      "State(taken={8, 0, 1}, not_taken={2, 3, 4, 5, 6, 7, 9})\n",
      "State(taken={0, 9, 1}, not_taken={2, 3, 4, 5, 6, 7, 8})\n",
      "FINE:  State(taken={0, 3}, not_taken={1, 2, 4, 5, 6, 7, 8, 9})\n",
      "State(taken={0, 1, 3}, not_taken={2, 4, 5, 6, 7, 8, 9})\n",
      "State(taken={0, 2, 3}, not_taken={1, 4, 5, 6, 7, 8, 9})\n",
      "State(taken={0, 3, 4}, not_taken={1, 2, 5, 6, 7, 8, 9})\n",
      "State(taken={0, 3, 5}, not_taken={1, 2, 4, 6, 7, 8, 9})\n",
      "State(taken={0, 3, 6}, not_taken={1, 2, 4, 5, 7, 8, 9})\n",
      "State(taken={0, 3, 7}, not_taken={1, 2, 4, 5, 6, 8, 9})\n",
      "State(taken={8, 0, 3}, not_taken={1, 2, 4, 5, 6, 7, 9})\n",
      "State(taken={0, 9, 3}, not_taken={1, 2, 4, 5, 6, 7, 8})\n",
      "FINE:  State(taken={0, 6}, not_taken={1, 2, 3, 4, 5, 7, 8, 9})\n",
      "State(taken={0, 1, 6}, not_taken={2, 3, 4, 5, 7, 8, 9})\n",
      "State(taken={0, 2, 6}, not_taken={1, 3, 4, 5, 7, 8, 9})\n",
      "State(taken={0, 3, 6}, not_taken={1, 2, 4, 5, 7, 8, 9})\n",
      "State(taken={0, 4, 6}, not_taken={1, 2, 3, 5, 7, 8, 9})\n",
      "State(taken={0, 5, 6}, not_taken={1, 2, 3, 4, 7, 8, 9})\n",
      "State(taken={0, 6, 7}, not_taken={1, 2, 3, 4, 5, 8, 9})\n",
      "State(taken={8, 0, 6}, not_taken={1, 2, 3, 4, 5, 7, 9})\n",
      "State(taken={0, 9, 6}, not_taken={1, 2, 3, 4, 5, 7, 8})\n",
      "FINE:  State(taken={0, 1, 3}, not_taken={2, 4, 5, 6, 7, 8, 9})\n",
      "Solved in 5 steps (3 tiles)\n"
     ]
    }
   ],
   "source": [
    "frontier = PriorityQueue()\n",
    "state = State(set(), set(range(NUM_SETS)))\n",
    "frontier.put((distance(state), state))\n",
    "\n",
    "counter = 0\n",
    "_, current_state = frontier.get()\n",
    "while not goal_check(current_state):\n",
    "    counter += 1\n",
    "    for action in current_state[1]:\n",
    "        new_state = State(\n",
    "            current_state.taken ^ {action}, current_state.not_taken ^ {action}\n",
    "        )\n",
    "\n",
    "        #COST (g) = number of tiles taken starting from the root.\n",
    "        #HEURISTIC (h) = number of elements not covered yet. We may assume that at worst each remaining element is covered by a different tile. \n",
    "\n",
    "        frontier.put((len(current_state.taken) + distance(new_state), new_state))\n",
    "        print(new_state)\n",
    "    _, current_state = frontier.get()\n",
    "    print(f\"FINE:  {current_state}\")\n",
    "\n",
    "print(f\"Solved in {counter:,} steps ({len(current_state.taken)} tiles)\")"
   ]
  },
  {
   "cell_type": "code",
   "execution_count": 6,
   "metadata": {},
   "outputs": [
    {
     "data": {
      "text/plain": [
       "State(taken={0, 1, 3}, not_taken={2, 4, 5, 6, 7, 8, 9})"
      ]
     },
     "execution_count": 6,
     "metadata": {},
     "output_type": "execute_result"
    }
   ],
   "source": [
    "current_state"
   ]
  },
  {
   "cell_type": "code",
   "execution_count": 7,
   "metadata": {},
   "outputs": [
    {
     "data": {
      "text/plain": [
       "True"
      ]
     },
     "execution_count": 7,
     "metadata": {},
     "output_type": "execute_result"
    }
   ],
   "source": [
    "goal_check(current_state)"
   ]
  }
 ],
 "metadata": {
  "kernelspec": {
   "display_name": "venv",
   "language": "python",
   "name": "python3"
  },
  "language_info": {
   "codemirror_mode": {
    "name": "ipython",
    "version": 3
   },
   "file_extension": ".py",
   "mimetype": "text/x-python",
   "name": "python",
   "nbconvert_exporter": "python",
   "pygments_lexer": "ipython3",
   "version": "3.11.2"
  }
 },
 "nbformat": 4,
 "nbformat_minor": 2
}

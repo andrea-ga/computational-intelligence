{
 "cells": [
  {
   "cell_type": "markdown",
   "metadata": {},
   "source": [
    "Copyright **`(c)`** 2023 Andrea Galella s310166\n",
    "\n",
    "`<andrea.galella@studenti.polito.it>` or `<galella.andrea@gmail.com>`\n",
    "\n",
    "[`https://github.com/andrea-ga/computational-intelligence`](https://github.com/andrea-ga/computational-intelligence)\n",
    "\n",
    "References - Course repository:  \n",
    "[`https://github.com/squillero/computational-intelligence`](https://github.com/squillero/computational-intelligence)\n",
    "\n",
    "Free for personal or classroom use; see [`LICENSE.md`](https://github.com/andrea-ga/computational-intelligence/blob/main/LICENSE.md) for details."
   ]
  },
  {
   "cell_type": "code",
   "execution_count": 31,
   "metadata": {},
   "outputs": [],
   "source": [
    "from random import random\n",
    "from functools import reduce\n",
    "from collections import namedtuple\n",
    "from queue import PriorityQueue, SimpleQueue, LifoQueue\n",
    "from itertools import permutations\n",
    "from math import ceil\n",
    "from tqdm.auto import tqdm\n",
    "\n",
    "import numpy as np"
   ]
  },
  {
   "cell_type": "code",
   "execution_count": 34,
   "metadata": {},
   "outputs": [
    {
     "name": "stdout",
     "output_type": "stream",
     "text": [
      "NUM_SETS: 40, (array([ True,  True, False, False,  True, False,  True, False, False,\n",
      "       False,  True, False, False, False, False, False, False,  True,\n",
      "       False, False]), array([False,  True,  True,  True, False, False, False, False,  True,\n",
      "       False, False, False, False,  True,  True,  True, False, False,\n",
      "       False, False]), array([False, False, False,  True, False, False, False,  True, False,\n",
      "       False,  True,  True, False, False,  True,  True, False, False,\n",
      "        True, False]), array([False,  True,  True, False, False,  True, False,  True,  True,\n",
      "        True, False, False, False, False,  True,  True, False, False,\n",
      "        True,  True]), array([ True,  True, False, False, False,  True,  True, False, False,\n",
      "        True,  True,  True, False, False, False,  True,  True,  True,\n",
      "       False,  True]), array([False, False, False, False, False,  True, False,  True, False,\n",
      "        True,  True,  True, False, False, False, False,  True, False,\n",
      "        True, False]), array([ True, False, False, False, False, False, False, False, False,\n",
      "       False,  True, False, False,  True, False,  True, False, False,\n",
      "       False, False]), array([False, False,  True, False, False, False, False,  True, False,\n",
      "        True, False, False,  True,  True,  True, False, False,  True,\n",
      "        True, False]), array([False, False, False, False, False, False, False, False,  True,\n",
      "       False, False,  True,  True, False, False,  True, False,  True,\n",
      "       False,  True]), array([False, False, False, False, False, False,  True, False,  True,\n",
      "       False,  True, False, False, False, False, False, False, False,\n",
      "       False, False]), array([False, False, False, False,  True,  True, False,  True, False,\n",
      "        True, False, False, False, False, False, False, False, False,\n",
      "       False, False]), array([False, False, False, False,  True,  True, False,  True, False,\n",
      "       False,  True, False,  True, False, False, False, False, False,\n",
      "       False, False]), array([False, False, False, False, False, False, False, False, False,\n",
      "       False,  True,  True, False, False,  True,  True, False, False,\n",
      "       False, False]), array([False, False, False,  True, False,  True, False,  True, False,\n",
      "        True,  True, False,  True,  True, False, False, False, False,\n",
      "       False, False]), array([False, False, False,  True,  True, False, False,  True, False,\n",
      "       False, False, False, False, False, False,  True,  True, False,\n",
      "       False, False]), array([False,  True, False, False, False, False, False, False, False,\n",
      "        True,  True, False,  True, False, False, False, False,  True,\n",
      "       False, False]), array([False,  True, False, False,  True, False,  True,  True, False,\n",
      "        True, False,  True,  True, False, False, False, False, False,\n",
      "       False,  True]), array([ True, False, False, False, False,  True, False,  True, False,\n",
      "        True, False, False, False,  True,  True, False,  True, False,\n",
      "       False,  True]), array([False, False, False, False,  True, False, False, False, False,\n",
      "        True,  True, False, False, False, False,  True,  True,  True,\n",
      "       False,  True]), array([False, False, False,  True, False, False, False,  True, False,\n",
      "       False, False, False,  True, False, False, False,  True, False,\n",
      "       False,  True]), array([False, False, False, False, False, False, False, False, False,\n",
      "       False,  True,  True, False,  True, False, False, False, False,\n",
      "        True, False]), array([False,  True,  True, False, False, False,  True,  True,  True,\n",
      "       False, False,  True, False, False, False,  True,  True, False,\n",
      "       False, False]), array([False, False, False, False, False, False, False,  True, False,\n",
      "       False,  True,  True, False, False,  True,  True, False,  True,\n",
      "       False, False]), array([ True,  True, False, False, False,  True, False, False, False,\n",
      "       False, False,  True, False, False, False,  True, False, False,\n",
      "       False, False]), array([False, False,  True, False, False, False, False, False, False,\n",
      "        True, False, False,  True, False, False, False, False, False,\n",
      "       False, False]), array([False,  True, False, False,  True, False, False, False,  True,\n",
      "       False,  True, False,  True, False, False, False,  True, False,\n",
      "       False,  True]), array([ True, False, False, False,  True, False, False, False, False,\n",
      "       False, False,  True,  True, False, False,  True, False, False,\n",
      "       False, False]), array([False, False,  True, False, False, False,  True,  True,  True,\n",
      "       False, False, False,  True,  True,  True, False, False,  True,\n",
      "       False, False]), array([False, False, False,  True, False,  True, False, False, False,\n",
      "        True,  True,  True, False, False,  True, False,  True, False,\n",
      "        True, False]), array([False, False, False,  True, False,  True, False, False,  True,\n",
      "       False, False, False,  True, False, False, False, False, False,\n",
      "       False, False]), array([False, False,  True,  True, False,  True,  True, False,  True,\n",
      "        True, False,  True, False, False, False, False, False,  True,\n",
      "       False, False]), array([False,  True, False, False, False, False,  True, False,  True,\n",
      "       False, False, False, False, False, False, False, False, False,\n",
      "        True,  True]), array([False,  True, False, False, False,  True,  True,  True, False,\n",
      "       False, False,  True, False,  True, False, False, False, False,\n",
      "       False, False]), array([ True, False, False, False, False, False, False, False, False,\n",
      "        True, False, False, False, False,  True, False, False, False,\n",
      "        True, False]), array([False, False, False,  True, False, False, False,  True, False,\n",
      "        True, False, False,  True,  True, False, False,  True, False,\n",
      "        True, False]), array([False, False, False, False,  True, False, False, False, False,\n",
      "       False, False, False, False, False,  True, False,  True, False,\n",
      "       False,  True]), array([False, False,  True, False, False, False, False, False,  True,\n",
      "       False, False, False, False,  True,  True,  True,  True, False,\n",
      "        True, False]), array([ True,  True, False,  True, False, False, False, False, False,\n",
      "       False,  True, False, False, False, False, False,  True,  True,\n",
      "       False, False]), array([False,  True, False, False, False, False,  True, False, False,\n",
      "       False, False, False, False,  True, False, False, False, False,\n",
      "       False, False]), array([ True,  True, False,  True,  True, False,  True, False, False,\n",
      "       False,  True, False, False, False, False,  True, False, False,\n",
      "        True,  True]))\n"
     ]
    }
   ],
   "source": [
    "PROBLEM_SIZE = 20\n",
    "NUM_SETS = 40 #number of tiles\n",
    "SETS = tuple(np.array([random() < .3 for _ in range(PROBLEM_SIZE)]) for _ in range(NUM_SETS))\n",
    "State = namedtuple('State', ['taken', 'not_taken'])\n",
    "\n",
    "print(f\"NUM_SETS: {len(SETS)}, {SETS}\")"
   ]
  },
  {
   "cell_type": "code",
   "execution_count": 23,
   "metadata": {},
   "outputs": [],
   "source": [
    "def goal_check(state):\n",
    "    return np.all(\n",
    "        reduce(\n",
    "            np.logical_or,\n",
    "            [SETS[i] for i in state.taken],\n",
    "            np.array([False for _ in range(PROBLEM_SIZE)]),\n",
    "        )\n",
    "    )\n",
    "\n",
    "def covered(state):\n",
    "    return reduce(\n",
    "        np.logical_or,\n",
    "        [SETS[i] for i in state.taken],\n",
    "        np.array([False for _ in range(PROBLEM_SIZE)]),\n",
    "    )\n",
    "\n",
    "\n",
    "def distance(state):\n",
    "    return PROBLEM_SIZE - sum(\n",
    "        reduce(\n",
    "            np.logical_or,\n",
    "            [SETS[i] for i in state.taken],\n",
    "            np.array([False for _ in range(PROBLEM_SIZE)]),\n",
    "        )\n",
    "    )\n",
    "\n",
    "assert goal_check(State(set(range(NUM_SETS)), set())), \"Problem not solvable\""
   ]
  },
  {
   "cell_type": "markdown",
   "metadata": {},
   "source": [
    "## REMOVING DUPLICATED SETS (OPTIONAL)"
   ]
  },
  {
   "cell_type": "code",
   "execution_count": 12,
   "metadata": {},
   "outputs": [
    {
     "name": "stdout",
     "output_type": "stream",
     "text": [
      "NUM_SETS: 40, (array([False, False, False, False, False, False, False, False, False,\n",
      "       False,  True, False, False, False, False,  True, False,  True,\n",
      "        True,  True]), array([False, False, False, False,  True, False, False,  True, False,\n",
      "        True, False, False, False,  True, False, False, False, False,\n",
      "       False, False]), array([False, False,  True, False, False, False, False, False,  True,\n",
      "        True,  True, False, False,  True, False, False,  True, False,\n",
      "       False, False]), array([False, False, False, False, False, False, False,  True,  True,\n",
      "       False, False, False,  True, False, False,  True, False,  True,\n",
      "        True, False]), array([ True, False, False, False, False, False, False, False, False,\n",
      "       False, False,  True, False, False, False,  True, False, False,\n",
      "       False,  True]), array([False, False, False, False,  True, False, False, False, False,\n",
      "       False, False, False,  True, False, False,  True,  True, False,\n",
      "       False, False]), array([False, False, False, False, False, False, False,  True,  True,\n",
      "       False, False,  True,  True,  True, False,  True,  True, False,\n",
      "        True, False]), array([ True, False, False, False, False, False, False, False,  True,\n",
      "       False, False,  True, False,  True,  True,  True,  True, False,\n",
      "       False, False]), array([False, False,  True, False,  True, False, False, False,  True,\n",
      "       False, False, False, False,  True,  True, False, False, False,\n",
      "       False, False]), array([ True, False, False, False, False,  True,  True, False, False,\n",
      "        True,  True, False, False, False,  True, False,  True,  True,\n",
      "       False, False]), array([False,  True, False, False, False, False,  True,  True, False,\n",
      "       False, False, False, False,  True,  True,  True, False, False,\n",
      "       False, False]), array([ True, False, False, False, False, False,  True, False,  True,\n",
      "       False, False, False, False, False, False,  True, False, False,\n",
      "       False, False]), array([False,  True, False, False, False,  True,  True,  True, False,\n",
      "       False,  True, False, False, False, False, False, False, False,\n",
      "       False,  True]), array([False, False,  True, False,  True,  True, False, False, False,\n",
      "       False,  True, False, False,  True,  True, False,  True, False,\n",
      "        True, False]), array([False, False, False, False,  True, False,  True,  True, False,\n",
      "       False, False,  True,  True, False, False, False, False, False,\n",
      "        True,  True]), array([False, False, False,  True, False,  True,  True, False, False,\n",
      "       False, False, False, False, False,  True,  True,  True, False,\n",
      "       False, False]), array([ True, False, False,  True,  True, False,  True,  True,  True,\n",
      "       False, False, False, False, False, False, False,  True, False,\n",
      "       False, False]), array([False,  True, False, False,  True, False,  True, False, False,\n",
      "       False, False, False,  True, False, False,  True,  True, False,\n",
      "       False, False]), array([False, False, False,  True,  True, False, False, False, False,\n",
      "        True, False, False,  True, False, False, False,  True, False,\n",
      "       False, False]), array([False, False, False, False,  True,  True,  True,  True,  True,\n",
      "       False, False, False, False, False, False, False, False,  True,\n",
      "       False, False]), array([ True, False, False, False, False, False, False,  True, False,\n",
      "        True, False, False, False, False,  True,  True, False,  True,\n",
      "        True, False]), array([False, False, False, False,  True, False, False, False, False,\n",
      "        True, False,  True,  True, False, False, False, False, False,\n",
      "       False, False]), array([ True, False,  True,  True,  True, False,  True,  True,  True,\n",
      "       False,  True, False, False,  True, False,  True, False, False,\n",
      "        True, False]), array([False, False, False, False, False, False,  True, False, False,\n",
      "       False, False, False, False, False,  True, False,  True, False,\n",
      "       False, False]), array([False, False, False,  True,  True, False,  True, False, False,\n",
      "       False, False,  True, False,  True,  True, False, False, False,\n",
      "       False, False]), array([ True, False, False, False,  True, False,  True, False,  True,\n",
      "        True,  True, False, False, False, False, False, False,  True,\n",
      "       False, False]), array([False,  True,  True, False,  True, False, False,  True, False,\n",
      "        True,  True, False, False,  True,  True, False, False, False,\n",
      "       False, False]), array([False, False, False, False, False, False,  True,  True,  True,\n",
      "       False, False, False,  True,  True, False, False, False, False,\n",
      "        True,  True]), array([False, False,  True, False, False, False, False, False, False,\n",
      "       False, False, False, False, False, False, False, False, False,\n",
      "       False, False]), array([False,  True, False, False,  True, False,  True, False, False,\n",
      "        True,  True, False, False,  True, False, False,  True, False,\n",
      "       False, False]), array([False,  True, False, False, False, False, False, False, False,\n",
      "        True,  True, False, False, False, False, False, False, False,\n",
      "        True, False]), array([False,  True, False, False, False, False, False, False,  True,\n",
      "        True, False, False,  True, False, False,  True, False, False,\n",
      "        True, False]), array([False,  True, False, False,  True, False, False, False, False,\n",
      "       False, False, False, False, False, False,  True, False, False,\n",
      "       False,  True]), array([False, False,  True, False, False, False, False,  True,  True,\n",
      "        True, False,  True,  True, False,  True, False, False, False,\n",
      "       False, False]), array([ True, False,  True, False, False, False,  True, False, False,\n",
      "       False, False, False,  True,  True, False, False, False, False,\n",
      "       False, False]), array([False, False,  True, False,  True, False, False, False, False,\n",
      "       False, False,  True,  True, False,  True, False, False, False,\n",
      "        True, False]), array([False, False, False, False, False, False, False, False,  True,\n",
      "        True, False, False, False,  True, False, False, False, False,\n",
      "       False, False]), array([False, False, False, False, False,  True, False, False, False,\n",
      "       False, False,  True, False, False,  True, False,  True,  True,\n",
      "       False,  True]), array([False,  True, False, False,  True,  True,  True, False, False,\n",
      "       False,  True,  True, False, False, False, False, False, False,\n",
      "       False,  True]), array([False, False, False, False,  True,  True, False, False, False,\n",
      "       False, False, False, False,  True, False, False, False, False,\n",
      "       False, False]))\n"
     ]
    }
   ],
   "source": [
    "#REMOVING DUPLICATED SETS MAKES SENSE ONLY WHEN PROBLEM_SIZE IS LITTLE OR PROBLEM_SIZE << NUM_SETS\n",
    "\n",
    "sets_list = list(SETS)\n",
    "\n",
    "unique_sets = set(tuple(arr) for arr in sets_list)\n",
    "\n",
    "unique_sets_list = [np.array(arr) for arr in unique_sets]\n",
    "\n",
    "unique_sets_tuple = tuple(unique_sets_list)\n",
    "\n",
    "SETS = unique_sets_tuple\n",
    "\n",
    "print(f\"NUM_SETS: {len(SETS)}, {SETS}\")"
   ]
  },
  {
   "cell_type": "markdown",
   "metadata": {},
   "source": [
    "## MY A*"
   ]
  },
  {
   "cell_type": "code",
   "execution_count": 29,
   "metadata": {},
   "outputs": [],
   "source": [
    "def check_num(min_tiles, state):\n",
    "    for i in permutations(state.not_taken, r = min_tiles):\n",
    "        new_state = State(state.taken, state.not_taken)\n",
    "        for j in i:\n",
    "            new_state = State(new_state.taken ^ {j}, new_state.not_taken ^ {j})\n",
    "\n",
    "        if goal_check(new_state):\n",
    "            return True\n",
    "\n",
    "    return False"
   ]
  },
  {
   "cell_type": "code",
   "execution_count": 35,
   "metadata": {},
   "outputs": [
    {
     "name": "stderr",
     "output_type": "stream",
     "text": [
      "15it [00:01, 10.68it/s]"
     ]
    },
    {
     "name": "stdout",
     "output_type": "stream",
     "text": [
      "Solved in 15 steps (3 tiles)\n"
     ]
    },
    {
     "name": "stderr",
     "output_type": "stream",
     "text": [
      "\n"
     ]
    }
   ],
   "source": [
    "frontier = PriorityQueue()\n",
    "state = State(set(), set(range(NUM_SETS)))\n",
    "frontier.put((distance(state), state))\n",
    "\n",
    "counter = 0\n",
    "_, current_state = frontier.get()\n",
    "with tqdm(total=None) as pbar:\n",
    "    while not goal_check(current_state):\n",
    "        counter += 1\n",
    "        for action in current_state[1]:\n",
    "            new_state = State(\n",
    "                current_state.taken ^ {action}, current_state.not_taken ^ {action}\n",
    "            )\n",
    "\n",
    "            #COST (g) = number of tiles taken starting from the root.\n",
    "            #HEURISTIC (h) = min number of tiles I need to cover all the sets. This number is <= than the distance.\n",
    "\n",
    "            min_tiles = 0\n",
    "\n",
    "            while min_tiles != distance(new_state): \n",
    "                min_tiles += 1\n",
    "\n",
    "                if check_num(min_tiles, new_state):\n",
    "                    break\n",
    "\n",
    "\n",
    "            frontier.put((len(new_state.taken) + min_tiles, new_state))\n",
    "            #print(f\"g={len(new_state.taken)} , distance = {distance(new_state)},  h={min_tiles} , sum={len(new_state.taken) + min_tiles}, {new_state}\")\n",
    "        _, current_state = frontier.get()\n",
    "        pbar.update(1)\n",
    "        #print(f\"STEP {counter}:  {current_state}\")\n",
    "\n",
    "print(f\"Solved in {counter:,} steps ({len(current_state.taken)} tiles)\")"
   ]
  },
  {
   "cell_type": "code",
   "execution_count": 36,
   "metadata": {},
   "outputs": [
    {
     "data": {
      "text/plain": [
       "State(taken={27, 28, 39}, not_taken={0, 1, 2, 3, 4, 5, 6, 7, 8, 9, 10, 11, 12, 13, 14, 15, 16, 17, 18, 19, 20, 21, 22, 23, 24, 25, 26, 29, 30, 31, 32, 33, 34, 35, 36, 37, 38})"
      ]
     },
     "execution_count": 36,
     "metadata": {},
     "output_type": "execute_result"
    }
   ],
   "source": [
    "current_state"
   ]
  },
  {
   "cell_type": "code",
   "execution_count": 37,
   "metadata": {},
   "outputs": [
    {
     "data": {
      "text/plain": [
       "True"
      ]
     },
     "execution_count": 37,
     "metadata": {},
     "output_type": "execute_result"
    }
   ],
   "source": [
    "goal_check(current_state)"
   ]
  },
  {
   "cell_type": "markdown",
   "metadata": {},
   "source": [
    "## PROF A*"
   ]
  },
  {
   "cell_type": "code",
   "execution_count": 38,
   "metadata": {},
   "outputs": [],
   "source": [
    "def h(state):\n",
    "    largest_set_size = max(sum(s) for s in SETS)\n",
    "    missing_size = PROBLEM_SIZE - sum(covered(state))\n",
    "    optimistic_estimate = ceil(missing_size / largest_set_size)\n",
    "    return optimistic_estimate\n",
    "\n",
    "\n",
    "def h2(state):\n",
    "    already_covered = covered(state)\n",
    "    if np.all(already_covered):\n",
    "        return 0\n",
    "    largest_set_size = max(sum(np.logical_and(s, np.logical_not(already_covered))) for s in SETS)\n",
    "    missing_size = PROBLEM_SIZE - sum(already_covered)\n",
    "    optimistic_estimate = ceil(missing_size / largest_set_size)\n",
    "    return optimistic_estimate\n",
    "\n",
    "\n",
    "def h3(state):\n",
    "    already_covered = covered(state)\n",
    "    if np.all(already_covered):\n",
    "        return 0\n",
    "    missing_size = PROBLEM_SIZE - sum(already_covered)\n",
    "    candidates = sorted((sum(np.logical_and(s, np.logical_not(already_covered))) for s in SETS), reverse=True)\n",
    "    taken = 1\n",
    "    while sum(candidates[:taken]) < missing_size:\n",
    "        taken += 1\n",
    "    return taken\n",
    "\n",
    "\n",
    "def f(state):\n",
    "    return len(state.taken) + h3(state)"
   ]
  },
  {
   "cell_type": "code",
   "execution_count": 39,
   "metadata": {},
   "outputs": [
    {
     "name": "stderr",
     "output_type": "stream",
     "text": [
      "18it [00:00, 142.29it/s]"
     ]
    },
    {
     "name": "stdout",
     "output_type": "stream",
     "text": [
      "Solved in 18 steps (3 tiles)\n"
     ]
    },
    {
     "name": "stderr",
     "output_type": "stream",
     "text": [
      "\n"
     ]
    }
   ],
   "source": [
    "frontier = PriorityQueue()\n",
    "state = State(set(), set(range(NUM_SETS)))\n",
    "frontier.put((f(state), state))\n",
    "\n",
    "counter = 0\n",
    "_, current_state = frontier.get()\n",
    "with tqdm(total=None) as pbar:\n",
    "    while not goal_check(current_state):\n",
    "            counter += 1\n",
    "            for action in current_state[1]:\n",
    "                new_state = State(\n",
    "                    current_state.taken ^ {action},\n",
    "                    current_state.not_taken ^ {action},\n",
    "                )\n",
    "                frontier.put((f(new_state), new_state))\n",
    "                #print(f\"c+h = {f(new_state)}, {new_state}\")\n",
    "            _, current_state = frontier.get()\n",
    "            pbar.update(1)\n",
    "            #print(f\"STEP {counter}: {current_state}\")\n",
    "\n",
    "print(f\"Solved in {counter:,} steps ({len(current_state.taken)} tiles)\")"
   ]
  },
  {
   "cell_type": "code",
   "execution_count": 40,
   "metadata": {},
   "outputs": [
    {
     "data": {
      "text/plain": [
       "State(taken={27, 4, 39}, not_taken={0, 1, 2, 3, 5, 6, 7, 8, 9, 10, 11, 12, 13, 14, 15, 16, 17, 18, 19, 20, 21, 22, 23, 24, 25, 26, 28, 29, 30, 31, 32, 33, 34, 35, 36, 37, 38})"
      ]
     },
     "execution_count": 40,
     "metadata": {},
     "output_type": "execute_result"
    }
   ],
   "source": [
    "current_state"
   ]
  },
  {
   "cell_type": "code",
   "execution_count": 41,
   "metadata": {},
   "outputs": [
    {
     "data": {
      "text/plain": [
       "True"
      ]
     },
     "execution_count": 41,
     "metadata": {},
     "output_type": "execute_result"
    }
   ],
   "source": [
    "goal_check(current_state)"
   ]
  }
 ],
 "metadata": {
  "kernelspec": {
   "display_name": "venv",
   "language": "python",
   "name": "python3"
  },
  "language_info": {
   "codemirror_mode": {
    "name": "ipython",
    "version": 3
   },
   "file_extension": ".py",
   "mimetype": "text/x-python",
   "name": "python",
   "nbconvert_exporter": "python",
   "pygments_lexer": "ipython3",
   "version": "3.11.2"
  }
 },
 "nbformat": 4,
 "nbformat_minor": 2
}

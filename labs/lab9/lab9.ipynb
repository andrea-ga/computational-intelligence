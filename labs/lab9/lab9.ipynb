{
 "cells": [
  {
   "cell_type": "markdown",
   "metadata": {},
   "source": [
    "Copyright **`(c)`** 2023 Giovanni Squillero `<giovanni.squillero@polito.it>`  \n",
    "[`https://github.com/squillero/computational-intelligence`](https://github.com/squillero/computational-intelligence)  \n",
    "Free for personal or classroom use; see [`LICENSE.md`](https://github.com/squillero/computational-intelligence/blob/master/LICENSE.md) for details.  "
   ]
  },
  {
   "cell_type": "markdown",
   "metadata": {},
   "source": [
    "# LAB9\n",
    "\n",
    "Write a local-search algorithm (eg. an EA) able to solve the *Problem* instances 1, 2, 5, and 10 on a 1000-loci genomes, using a minimum number of fitness calls. That's all.\n",
    "\n",
    "### Deadlines:\n",
    "\n",
    "* Submission: Sunday, December 3 ([CET](https://www.timeanddate.com/time/zones/cet))\n",
    "* Reviews: Sunday, December 10 ([CET](https://www.timeanddate.com/time/zones/cet))\n",
    "\n",
    "Notes:\n",
    "\n",
    "* Reviews will be assigned  on Monday, December 4\n",
    "* You need to commit in order to be selected as a reviewer (ie. better to commit an empty work than not to commit)"
   ]
  },
  {
   "cell_type": "code",
   "execution_count": 67,
   "metadata": {},
   "outputs": [],
   "source": [
    "from random import choices, choice, randint, random\n",
    "from dataclasses import dataclass\n",
    "from copy import copy, deepcopy\n",
    "\n",
    "import lab9_lib"
   ]
  },
  {
   "cell_type": "code",
   "execution_count": 4,
   "metadata": {},
   "outputs": [
    {
     "name": "stdout",
     "output_type": "stream",
     "text": [
      "00101001101000010011100010001100101110000100010100: 17.56%\n",
      "00010011000001000000000110001010000110111100001101: 11.56%\n",
      "01100111010111001110011100100110110011011100100000: 23.33%\n",
      "00011010101111010000110000101001000011010010110010: 17.56%\n",
      "11100001100110111100101010011100100011011000110110: 9.13%\n",
      "00010011010001011011000001111110101100000010010010: 7.33%\n",
      "00010000110010101101101101111111111000100010110000: 7.33%\n",
      "10000111011100001111101111000110111001101011001110: 9.13%\n",
      "00110110110011101011000010000001001110011110100001: 15.34%\n",
      "01101000001110111001111011110110101100111100111011: 9.11%\n",
      "10\n"
     ]
    }
   ],
   "source": [
    "fitness = lab9_lib.make_problem(10)\n",
    "for n in range(10):\n",
    "    ind = choices([0, 1], k=50)\n",
    "    print(f\"{''.join(str(g) for g in ind)}: {fitness(ind):.2%}\")\n",
    "\n",
    "print(fitness.calls)"
   ]
  },
  {
   "cell_type": "code",
   "execution_count": 328,
   "metadata": {},
   "outputs": [],
   "source": [
    "POPULATION_SIZE = 30\n",
    "OFFSPRING_SIZE = 20\n",
    "TOURNAMENT_SIZE = 2\n",
    "MUTATION_PROBABILITY = 0.15\n",
    "\n",
    "NUM_SETS = 50\n",
    "\n",
    "@dataclass\n",
    "class Individual:\n",
    "    fitness: float\n",
    "    genotype: list[int]\n",
    "\n",
    "def select_parent(pop):\n",
    "    pool = [choice(pop) for _ in range(TOURNAMENT_SIZE)]\n",
    "    champion = max(pool, key=lambda i: i.fitness)\n",
    "    return champion\n",
    "\n",
    "def mutate(ind: Individual, population) -> Individual:\n",
    "    offspring = copy(ind)\n",
    "\n",
    "    best = NUM_SETS\n",
    "    index = -1\n",
    "    for i in range(NUM_SETS):\n",
    "        counter = 0\n",
    "        for j in range(len(population)):\n",
    "            if population[j].genotype[i] == 1:\n",
    "                counter += 1\n",
    "\n",
    "        if counter < best:\n",
    "            best = counter\n",
    "            index = i\n",
    "\n",
    "    if index != -1:\n",
    "        pos = index\n",
    "    else:\n",
    "        pos = randint(0, NUM_SETS-1)\n",
    "\n",
    "    offspring.genotype[pos] = not offspring.genotype[pos]\n",
    "    offspring.fitness = None\n",
    "    return offspring\n",
    "\n",
    "def one_cut_xover(ind1: Individual, ind2: Individual) -> Individual:\n",
    "    list = [0 for _ in range(NUM_SETS)]\n",
    "\n",
    "    for i in range(NUM_SETS):\n",
    "        list[i] = ind1.genotype[i] or ind2.genotype[i]\n",
    "\n",
    "    offspring = Individual(fitness=None,\n",
    "                           genotype=list)\n",
    "    assert len(offspring.genotype) == NUM_SETS\n",
    "    return offspring"
   ]
  },
  {
   "cell_type": "code",
   "execution_count": 158,
   "metadata": {},
   "outputs": [],
   "source": [
    "def populate():\n",
    "    population = [\n",
    "        Individual(\n",
    "            genotype=[choice((0,1)) for _ in range(NUM_SETS)],\n",
    "            fitness=None,\n",
    "        )\n",
    "        for _ in range(POPULATION_SIZE)\n",
    "    ]\n",
    "\n",
    "    for i in population:\n",
    "        i.fitness = fitness(i.genotype)\n",
    "\n",
    "    return population"
   ]
  },
  {
   "cell_type": "code",
   "execution_count": 332,
   "metadata": {},
   "outputs": [
    {
     "name": "stdout",
     "output_type": "stream",
     "text": [
      "47.33%\n",
      "89.20%\n",
      "100.00%\n",
      "90\n"
     ]
    }
   ],
   "source": [
    "fitness = lab9_lib.make_problem(10)\n",
    "\n",
    "population = populate()\n",
    "for generation in range(3):\n",
    "    offspring = list()\n",
    "    for counter in range(OFFSPRING_SIZE):\n",
    "        if random() < MUTATION_PROBABILITY:\n",
    "            p = select_parent(population)\n",
    "            o = mutate(p, population)\n",
    "        else:\n",
    "            p1 = select_parent(population)\n",
    "            p2 = select_parent(population)\n",
    "            o = one_cut_xover(p1, p2)\n",
    "        offspring.append(o)\n",
    "\n",
    "    for i in offspring:\n",
    "        i.fitness = fitness(i.genotype)\n",
    "    population.extend(offspring)\n",
    "    population.sort(key=lambda i: i.fitness, reverse=True)\n",
    "    population = population[:POPULATION_SIZE]\n",
    "    print(f\"{population[0].fitness:.2%}\")\n",
    "\n",
    "print(fitness.calls)"
   ]
  },
  {
   "cell_type": "code",
   "execution_count": 269,
   "metadata": {},
   "outputs": [],
   "source": [
    "μ = 10\n",
    "λ = 20 #number of children\n",
    "MUTATION_RATE = 0.5\n",
    "GENERATION_NUM = 5_00 // λ\n",
    "\n",
    "def es():\n",
    "    fitness = lab9_lib.make_problem(10)\n",
    "\n",
    "    population = populate()\n",
    "\n",
    "    population.sort(key = lambda x:x.fitness, reverse = True)\n",
    "\n",
    "    parents = population[:μ]\n",
    "\n",
    "    for _ in range(GENERATION_NUM): #NEW GENERATION\n",
    "        children = []\n",
    "\n",
    "        for p in parents:\n",
    "            children.append(deepcopy(p))\n",
    "\n",
    "        for _ in range(λ):\n",
    "            parent = choice(parents)\n",
    "            new_i = mutate(parent, children)\n",
    "            new_i.fitness = fitness(new_i.genotype)\n",
    "\n",
    "            children.append(new_i)\n",
    "\n",
    "        population = deepcopy(children)\n",
    "\n",
    "        population.sort(key = lambda x:x.fitness, reverse = True)\n",
    "        \n",
    "        parents = population[:μ]\n",
    "        print(f\"{population[0].fitness:.2%}\")\n",
    "\n",
    "    print(fitness.calls)"
   ]
  },
  {
   "cell_type": "code",
   "execution_count": 273,
   "metadata": {},
   "outputs": [
    {
     "name": "stdout",
     "output_type": "stream",
     "text": [
      "35.58%\n",
      "35.58%\n",
      "41.78%\n",
      "41.78%\n",
      "47.33%\n",
      "47.36%\n",
      "47.36%\n",
      "55.34%\n",
      "55.34%\n",
      "69.11%\n",
      "100.00%\n",
      "100.00%\n",
      "100.00%\n",
      "100.00%\n",
      "100.00%\n",
      "100.00%\n",
      "100.00%\n",
      "100.00%\n",
      "100.00%\n",
      "100.00%\n",
      "100.00%\n",
      "100.00%\n",
      "100.00%\n",
      "100.00%\n",
      "100.00%\n",
      "500\n"
     ]
    }
   ],
   "source": [
    "es()"
   ]
  }
 ],
 "metadata": {
  "kernelspec": {
   "display_name": "ci-fLJ3OwGs-py3.12",
   "language": "python",
   "name": "python3"
  },
  "language_info": {
   "codemirror_mode": {
    "name": "ipython",
    "version": 3
   },
   "file_extension": ".py",
   "mimetype": "text/x-python",
   "name": "python",
   "nbconvert_exporter": "python",
   "pygments_lexer": "ipython3",
   "version": "3.11.2"
  }
 },
 "nbformat": 4,
 "nbformat_minor": 2
}
